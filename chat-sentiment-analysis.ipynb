{
 "cells": [
  {
   "cell_type": "markdown",
   "metadata": {},
   "source": [
    "### Instalação das Dependências"
   ]
  },
  {
   "cell_type": "code",
   "execution_count": 17,
   "metadata": {},
   "outputs": [
    {
     "name": "stdout",
     "output_type": "stream",
     "text": [
      "Requirement already satisfied: protobuf==3.19.6 in /opt/anaconda3/envs/CustomEnvironments/lib/python3.8/site-packages (3.19.6)\n",
      "Requirement already satisfied: openai in /opt/anaconda3/envs/CustomEnvironments/lib/python3.8/site-packages (1.12.0)\n",
      "Requirement already satisfied: tqdm>4 in /opt/anaconda3/envs/CustomEnvironments/lib/python3.8/site-packages (from openai) (4.64.1)\n",
      "Requirement already satisfied: pydantic<3,>=1.9.0 in /opt/anaconda3/envs/CustomEnvironments/lib/python3.8/site-packages (from openai) (1.10.8)\n",
      "Requirement already satisfied: httpx<1,>=0.23.0 in /opt/anaconda3/envs/CustomEnvironments/lib/python3.8/site-packages (from openai) (0.27.0)\n",
      "Requirement already satisfied: typing-extensions<5,>=4.7 in /opt/anaconda3/envs/CustomEnvironments/lib/python3.8/site-packages (from openai) (4.9.0)\n",
      "Requirement already satisfied: distro<2,>=1.7.0 in /opt/anaconda3/envs/CustomEnvironments/lib/python3.8/site-packages (from openai) (1.9.0)\n",
      "Requirement already satisfied: anyio<5,>=3.5.0 in /opt/anaconda3/envs/CustomEnvironments/lib/python3.8/site-packages (from openai) (4.3.0)\n",
      "Requirement already satisfied: sniffio in /opt/anaconda3/envs/CustomEnvironments/lib/python3.8/site-packages (from openai) (1.3.0)\n",
      "Requirement already satisfied: idna>=2.8 in /opt/anaconda3/envs/CustomEnvironments/lib/python3.8/site-packages (from anyio<5,>=3.5.0->openai) (3.4)\n",
      "Requirement already satisfied: exceptiongroup>=1.0.2 in /opt/anaconda3/envs/CustomEnvironments/lib/python3.8/site-packages (from anyio<5,>=3.5.0->openai) (1.2.0)\n",
      "Requirement already satisfied: httpcore==1.* in /opt/anaconda3/envs/CustomEnvironments/lib/python3.8/site-packages (from httpx<1,>=0.23.0->openai) (1.0.4)\n",
      "Requirement already satisfied: certifi in /opt/anaconda3/envs/CustomEnvironments/lib/python3.8/site-packages (from httpx<1,>=0.23.0->openai) (2023.11.17)\n",
      "Requirement already satisfied: h11<0.15,>=0.13 in /opt/anaconda3/envs/CustomEnvironments/lib/python3.8/site-packages (from httpcore==1.*->httpx<1,>=0.23.0->openai) (0.14.0)\n"
     ]
    }
   ],
   "source": [
    "!pip install protobuf==3.19.6\n",
    "!pip install --upgrade openai"
   ]
  },
  {
   "cell_type": "code",
   "execution_count": 18,
   "metadata": {},
   "outputs": [
    {
     "name": "stdout",
     "output_type": "stream",
     "text": [
      "Requirement already satisfied: python-dotenv in /opt/anaconda3/envs/CustomEnvironments/lib/python3.8/site-packages (1.0.1)\n"
     ]
    }
   ],
   "source": [
    "!pip install python-dotenv"
   ]
  },
  {
   "cell_type": "markdown",
   "metadata": {},
   "source": [
    "### Bibliotecas"
   ]
  },
  {
   "cell_type": "code",
   "execution_count": 2,
   "metadata": {},
   "outputs": [],
   "source": [
    "from openai import OpenAI\n",
    "from dotenv import load_dotenv, dotenv_values\n",
    "import pandas as pd"
   ]
  },
  {
   "cell_type": "markdown",
   "metadata": {},
   "source": [
    "### Configurações"
   ]
  },
  {
   "cell_type": "code",
   "execution_count": 3,
   "metadata": {},
   "outputs": [
    {
     "data": {
      "text/plain": [
       "True"
      ]
     },
     "execution_count": 3,
     "metadata": {},
     "output_type": "execute_result"
    }
   ],
   "source": [
    "load_dotenv()"
   ]
  },
  {
   "cell_type": "code",
   "execution_count": 4,
   "metadata": {},
   "outputs": [],
   "source": [
    "config = dotenv_values(\".env\")"
   ]
  },
  {
   "cell_type": "code",
   "execution_count": 5,
   "metadata": {},
   "outputs": [],
   "source": [
    "client = OpenAI(\n",
    "  api_key=config.get('OPENAI_API_KEY')\n",
    ")"
   ]
  },
  {
   "cell_type": "code",
   "execution_count": null,
   "metadata": {},
   "outputs": [],
   "source": [
    "# def arr_to_string(content):\n",
    "#     messages_str = content['message'].values\n",
    "#     messages=[\n",
    "#         {\n",
    "#             'role': 'system',\n",
    "#             'content': 'You will be provided with a conversation, and your task is to classify its sentiment as Happy, Neutral, Surprised, Disgusted, Sad, Fearful or Angry'\n",
    "#         }       \n",
    "#     ]\n",
    "#     # for message in messages_str:\n",
    "#     #     messages.append({\"role\": \"user\", \"content\": message})\n",
    "#     conversation = ''\n",
    "#     for message in messages_str:\n",
    "#         conversation += message.strip() + '\\n'\n",
    "#     messages.append({'role': 'user', 'content': conversation})\n",
    "#     return messages"
   ]
  },
  {
   "cell_type": "markdown",
   "metadata": {},
   "source": [
    "### Definição do modelo"
   ]
  },
  {
   "cell_type": "code",
   "execution_count": 42,
   "metadata": {},
   "outputs": [],
   "source": [
    "def answer_sentiment_analysis_questions(messages):\n",
    "    response = client.chat.completions.create(\n",
    "        model=\"gpt-3.5-turbo\", # Seleção do modelo\n",
    "        messages=messages, # input\n",
    "        temperature=0.1, # Grau de liberdade que o modelo vai ter para dar uma resposta \n",
    "        max_tokens=2, # Maximo de palavras geradas pelo modelo\n",
    "        logprobs=True\n",
    "\n",
    "    )\n",
    "\n",
    "    print(response.choices)\n",
    "\n",
    "    return response.choices[0].message.content"
   ]
  },
  {
   "cell_type": "markdown",
   "metadata": {},
   "source": [
    "### Dados de dialogo"
   ]
  },
  {
   "cell_type": "code",
   "execution_count": 35,
   "metadata": {},
   "outputs": [],
   "source": [
    "happy_conversation = [\n",
    "  {\"role\": \"system\", \"content\": \"Provide a sentiment label (Happy, Neutral, Surprised, Disgusted, Sad, Fearful, or Angry) for the given conversation.\"},\n",
    "  {\"role\": \"user\", \"content\": \"Good morning, Bob! How are you today?\"},\n",
    "  {\"role\": \"assistant\", \"content\": \"Hey, Alice! I'm doing fantastic, thanks! Just had a great cup of coffee to kickstart my day. How about you?\"},\n",
    "  {\"role\": \"user\", \"content\": \"That's awesome to hear, Bob! I'm doing well too, got a good night's sleep. Did you have any exciting plans for the day?\"},\n",
    "  {\"role\": \"assistant\", \"content\": \"Absolutely! I'm meeting some friends for lunch, and then we're going to catch a movie later. How about you, anything fun on your agenda?\"},\n",
    "  {\"role\": \"user\", \"content\": \"Oh, nice! I have a picnic planned in the park with my family. It's been a while since we've all gotten together, so I'm really looking forward to it.\"},\n",
    "  {\"role\": \"assistant\", \"content\": \"That sounds wonderful, Alice! Family picnics are always special. By the way, did you see that hilarious video going around on social media yesterday? It had me laughing for hours!\"},\n",
    "  {\"role\": \"user\", \"content\": \"Oh, yes! I saw it too! It was the one with the talking parrot, right? I couldn't stop laughing either. It's amazing how a simple video can brighten up the day.\"},\n",
    "  {\"role\": \"assistant\", \"content\": \"Exactly! It's the little things that make life so enjoyable. Anyway, speaking of enjoyment, have you tried that new ice cream place downtown? I heard they have some unique flavors.\"},\n",
    "]"
   ]
  },
  {
   "cell_type": "code",
   "execution_count": 20,
   "metadata": {},
   "outputs": [],
   "source": [
    "sad_conversation = [\n",
    "    {\"role\": \"system\", \"content\": \"Provide a sentiment label (Happy, Neutral, Surprised, Disgusted, Sad, Fearful, or Angry) for the given conversation.\"},\n",
    "    {\"role\": \"user\", \"content\": \"Feeling really down lately.\"},\n",
    "    {\"role\": \"assistant\", \"content\": \"I'm here for you. What's been bothering you?\"},\n",
    "    {\"role\": \"user\", \"content\": \"Lost my job, and everything's falling apart.\"},\n",
    "    {\"role\": \"assistant\", \"content\": \"That's tough. Have you talked to someone close or considered professional help?\"},\n",
    "    {\"role\": \"user\", \"content\": \"Feels like nobody understands. I'm lost.\"},\n",
    "    {\"role\": \"assistant\", \"content\": \"You're not alone. Consider reaching out to friends and family. Taking small steps can make a difference.\"},\n",
    "    {\"role\": \"user\", \"content\": \"Everything's overwhelming. Don't know where to start.\"},\n",
    "    {\"role\": \"assistant\", \"content\": \"It's okay. Consider talking to a professional. You don't have to face it alone.\"},\n",
    "    {\"role\": \"user\", \"content\": \"Thanks for being here. Just needed someone to talk to.\"},\n",
    "    {\"role\": \"assistant\", \"content\": \"Anytime. I'm here for you. Reach out whenever you need support.\"}\n",
    "]"
   ]
  },
  {
   "cell_type": "code",
   "execution_count": 39,
   "metadata": {},
   "outputs": [],
   "source": [
    "angry_conversation = [\n",
    "    {\"role\": \"system\", \"content\": \"Provide a sentiment label (Happy, Neutral, Surprised, Disgusted, Sad, Fearful, Angry) for the given conversation.\"},\n",
    "    {\"role\": \"user\", \"content\": \"I can't believe you would do this!\"},\n",
    "    {\"role\": \"assistant\", \"content\": \"What's your problem? I did everything I could.\"},\n",
    "    {\"role\": \"user\", \"content\": \"You promised to help, and you completely let me down.\"},\n",
    "    {\"role\": \"assistant\", \"content\": \"Spare me the drama. I don't have time for your whining.\"},\n",
    "    {\"role\": \"user\", \"content\": \"Your best isn't good enough! This is unacceptable.\"},\n",
    "    {\"role\": \"assistant\", \"content\": \"Lower your expectations. I'm not your babysitter.\"},\n",
    "    {\"role\": \"user\", \"content\": \"It's too late. I needed your support, and you failed me.\"},\n",
    "    {\"role\": \"assistant\", \"content\": \"Learn to handle things on your own. I'm not here for you.\"},\n",
    "    {\"role\": \"user\", \"content\": \"I shouldn't have to explain it! You should've done what you promised.\"},\n",
    "    {\"role\": \"assistant\", \"content\": \"Don't act like I owe you anything. You're not that important.\"},\n",
    "    {\"role\": \"user\", \"content\": \"Resolution? It's too little, too late. I expected more.\"},\n",
    "    {\"role\": \"assistant\", \"content\": \"Live in the real world. No one cares about your feelings.\"},\n",
    "    {\"role\": \"user\", \"content\": \"Leave me alone. I can't deal with this.\"},\n",
    "    {\"role\": \"assistant\", \"content\": \"Fine by me. Saves me from your constant drama.\"},\n",
    "    {\"role\": \"user\", \"content\": \"I'm done with you.\"},\n",
    "    {\"role\": \"assistant\", \"content\": \"Great! Saves me from dealing with your drama.\"}\n",
    "]"
   ]
  },
  {
   "cell_type": "code",
   "execution_count": 46,
   "metadata": {},
   "outputs": [],
   "source": [
    "fareful_conversation = [\n",
    "    {\"role\": \"system\", \"content\": \"Provide a sentiment label (Happy, Neutral, Surprised, Disgusted, Sad, Fearful, Angry) for the given conversation.\"},\n",
    "    {\"role\": \"user\", \"content\": \"I'm terrified, something is terribly wrong.\"},\n",
    "    {\"role\": \"assistant\", \"content\": \"Take a deep breath. What happened? Why are you so scared?\"},\n",
    "    {\"role\": \"user\", \"content\": \"I saw someone following me on my way home.\"},\n",
    "    {\"role\": \"assistant\", \"content\": \"That sounds frightening. Have you tried finding a safe place?\"},\n",
    "    {\"role\": \"user\", \"content\": \"I'm home now, but I'm still shaking.\"},\n",
    "    {\"role\": \"assistant\", \"content\": \"Your safety is the top priority. Consider locking all doors and windows. Do you want to call someone for support?\"},\n",
    "    {\"role\": \"user\", \"content\": \"I'm too scared to even make a call.\"},\n",
    "    {\"role\": \"assistant\", \"content\": \"I understand. If you feel unsafe, please contact the authorities immediately. Your well-being is crucial.\"},\n",
    "    {\"role\": \"user\", \"content\": \"I never thought something like this would happen to me.\"},\n",
    "    {\"role\": \"assistant\", \"content\": \"It's unfortunate, but your safety is the main concern now. Can you provide more details about the person who was following you?\"},\n",
    "    {\"role\": \"user\", \"content\": \"It was dark, I couldn't see their face. They were just lurking behind.\"},\n",
    "    {\"role\": \"assistant\", \"content\": \"I'm sorry you had to experience that. If you're comfortable, consider reporting this to the police so they can be aware of the situation.\"},\n",
    "    {\"role\": \"user\", \"content\": \"I'm just so scared they'll come back.\"},\n",
    "    {\"role\": \"assistant\", \"content\": \"Your fear is valid. Ensure all entry points are secure, and maybe ask a neighbor or friend to stay with you. I'm here for support.\"},\n",
    "    {\"role\": \"user\", \"content\": \"Thank you for being here. I don't know what to do.\"},\n",
    "    {\"role\": \"assistant\", \"content\": \"It's understandable to feel overwhelmed. Take one step at a time. If you need to talk or make decisions, I'm here to help.\"},\n",
    "    {\"role\": \"user\", \"content\": \"I hope this nightmare ends soon.\"},\n",
    "    {\"role\": \"assistant\", \"content\": \"I hope so too. Focus on your safety, and don't hesitate to reach out if you need anything.\"},\n",
    "    {\"role\": \"user\", \"content\": \"I'll try. Thank you.\"},\n",
    "    {\"role\": \"assistant\", \"content\": \"You're welcome. Stay safe, and remember, you're not alone in this.\"},\n",
    "]"
   ]
  },
  {
   "cell_type": "markdown",
   "metadata": {},
   "source": [
    "### Testes"
   ]
  },
  {
   "cell_type": "code",
   "execution_count": 36,
   "metadata": {},
   "outputs": [
    {
     "name": "stdout",
     "output_type": "stream",
     "text": [
      "[Choice(finish_reason='length', index=0, logprobs=ChoiceLogprobs(content=[ChatCompletionTokenLogprob(token='Happy', bytes=[72, 97, 112, 112, 121], logprob=-3.7697225e-06, top_logprobs=[])]), message=ChatCompletionMessage(content='Happy', role='assistant', function_call=None, tool_calls=None))]\n",
      "Happy\n"
     ]
    }
   ],
   "source": [
    "print(answer_sentiment_analysis_questions(happy_conversation))\n"
   ]
  },
  {
   "cell_type": "code",
   "execution_count": 37,
   "metadata": {},
   "outputs": [
    {
     "name": "stdout",
     "output_type": "stream",
     "text": [
      "[Choice(finish_reason='length', index=0, logprobs=ChoiceLogprobs(content=[ChatCompletionTokenLogprob(token='Sad', bytes=[83, 97, 100], logprob=-0.00027706707, top_logprobs=[])]), message=ChatCompletionMessage(content='Sad', role='assistant', function_call=None, tool_calls=None))]\n",
      "Sad\n"
     ]
    }
   ],
   "source": [
    "print(answer_sentiment_analysis_questions(sad_conversation))\n"
   ]
  },
  {
   "cell_type": "code",
   "execution_count": 43,
   "metadata": {},
   "outputs": [
    {
     "name": "stdout",
     "output_type": "stream",
     "text": [
      "[Choice(finish_reason='length', index=0, logprobs=ChoiceLogprobs(content=[ChatCompletionTokenLogprob(token='Ang', bytes=[65, 110, 103], logprob=-0.116942324, top_logprobs=[]), ChatCompletionTokenLogprob(token='ry', bytes=[114, 121], logprob=-0.00062236894, top_logprobs=[])]), message=ChatCompletionMessage(content='Angry', role='assistant', function_call=None, tool_calls=None))]\n",
      "Angry\n"
     ]
    }
   ],
   "source": [
    "print(answer_sentiment_analysis_questions(angry_conversation))\n"
   ]
  },
  {
   "cell_type": "code",
   "execution_count": 47,
   "metadata": {},
   "outputs": [
    {
     "name": "stdout",
     "output_type": "stream",
     "text": [
      "[Choice(finish_reason='length', index=0, logprobs=ChoiceLogprobs(content=[ChatCompletionTokenLogprob(token='Fear', bytes=[70, 101, 97, 114], logprob=-0.010996296, top_logprobs=[]), ChatCompletionTokenLogprob(token='ful', bytes=[102, 117, 108], logprob=0.0, top_logprobs=[])]), message=ChatCompletionMessage(content='Fearful', role='assistant', function_call=None, tool_calls=None))]\n",
      "Fearful\n"
     ]
    }
   ],
   "source": [
    "print(answer_sentiment_analysis_questions(fareful_conversation))\n"
   ]
  }
 ],
 "metadata": {
  "kernelspec": {
   "display_name": "CustomEnvironments",
   "language": "python",
   "name": "python3"
  },
  "language_info": {
   "codemirror_mode": {
    "name": "ipython",
    "version": 3
   },
   "file_extension": ".py",
   "mimetype": "text/x-python",
   "name": "python",
   "nbconvert_exporter": "python",
   "pygments_lexer": "ipython3",
   "version": "3.8.13"
  }
 },
 "nbformat": 4,
 "nbformat_minor": 2
}
