{
 "cells": [
  {
   "cell_type": "code",
   "execution_count": 1,
   "metadata": {},
   "outputs": [],
   "source": [
    "# !pip install protobuf==3.19.6\n",
    "# !pip install --upgrade openai\n",
    "# !pip install python-dotenv"
   ]
  },
  {
   "cell_type": "code",
   "execution_count": 2,
   "metadata": {},
   "outputs": [],
   "source": [
    "from openai import OpenAI\n",
    "from dotenv import load_dotenv, dotenv_values"
   ]
  },
  {
   "cell_type": "code",
   "execution_count": 3,
   "metadata": {},
   "outputs": [
    {
     "data": {
      "text/plain": [
       "True"
      ]
     },
     "execution_count": 3,
     "metadata": {},
     "output_type": "execute_result"
    }
   ],
   "source": [
    "load_dotenv()"
   ]
  },
  {
   "cell_type": "code",
   "execution_count": 4,
   "metadata": {},
   "outputs": [],
   "source": [
    "config = dotenv_values(\".env\")"
   ]
  },
  {
   "cell_type": "code",
   "execution_count": 5,
   "metadata": {},
   "outputs": [],
   "source": [
    "client = OpenAI(\n",
    "  api_key=config.get('OPENAI_API_KEY')\n",
    ")"
   ]
  },
  {
   "cell_type": "markdown",
   "metadata": {},
   "source": [
    "## Definição do modelo"
   ]
  },
  {
   "cell_type": "code",
   "execution_count": 6,
   "metadata": {},
   "outputs": [],
   "source": [
    "def conversation_summary(messages, prompt):\n",
    "\n",
    "    new_messages_arr = [message for message in messages]\n",
    "\n",
    "    if prompt:\n",
    "        new_messages_arr.insert(0, prompt)\n",
    "    \n",
    "    response = client.chat.completions.create(\n",
    "        model=\"gpt-3.5-turbo\", # Seleção do modelo\n",
    "        messages=new_messages_arr, # input\n",
    "        temperature=1.5, # Grau de liberdade que o modelo vai ter para criar respostas. Valores testados: 0.1, 0.2, 1.0, 1.5\n",
    "        max_tokens=128 # Maximo de palavras geradas pelo modelo\n",
    "    )\n",
    "\n",
    "    # print(response.choices)\n",
    "\n",
    "    return response.choices[0].message.content"
   ]
  },
  {
   "cell_type": "markdown",
   "metadata": {},
   "source": [
    "## Casos de testes"
   ]
  },
  {
   "cell_type": "code",
   "execution_count": 7,
   "metadata": {},
   "outputs": [],
   "source": [
    "credit_card_messages = [\n",
    "    {\n",
    "        \"role\": \"user\",\n",
    "        \"content\": \"Oi, João! Você já usou seu cartão de crédito recentemente?\",\n",
    "    },\n",
    "    {\n",
    "        \"role\": \"assistant\",\n",
    "        \"content\": \"Oi! Sim, usei para comprar algumas coisas online. Por quê?\",\n",
    "    },\n",
    "    {\n",
    "        \"role\": \"user\",\n",
    "        \"content\": \"Estou pensando em comprar um laptop, mas estou preocupado com a segurança. Você já teve problemas com fraudes?\",\n",
    "    },\n",
    "    {\n",
    "        \"role\": \"assistant\",\n",
    "        \"content\": \"Nunca tive problemas, mas sempre fico de olho nas transações. Recomendo usar sites seguros e verificar a fatura regularmente.\",\n",
    "    },\n",
    "    {\n",
    "        \"role\": \"user\",\n",
    "        \"content\": \"Boa dica! Você costuma parcelar suas compras ou prefere pagar à vista?\",\n",
    "    },\n",
    "    {\n",
    "        \"role\": \"assistant\",\n",
    "        \"content\": \"Depende do valor. Coisas pequenas geralmente à vista, mas para compras maiores, parcelar ajuda a equilibrar o orçamento.\",\n",
    "    },\n",
    "    {\n",
    "        \"role\": \"user\",\n",
    "        \"content\": \"Entendi. Estava pensando em acumular pontos no meu cartão. Você usa os benefícios dele?\",\n",
    "    },\n",
    "    {\n",
    "        \"role\": \"assistant\",\n",
    "        \"content\": \"Sim, tento aproveitar os pontos para descontos ou até mesmo viagens. Vale a pena conferir as opções de resgate do seu cartão.\",\n",
    "    },\n",
    "    {\n",
    "        \"role\": \"user\",\n",
    "        \"content\": \"Legal! Você tem algum cuidado especial ao comprar online com o cartão de crédito?\",\n",
    "    },\n",
    "    {\n",
    "        \"role\": \"assistant\",\n",
    "        \"content\": \"Sempre verifico se o site é seguro, evito Wi-Fi público e nunca compartilho os detalhes do cartão por e-mail. E você?\",\n",
    "    },\n",
    "    {\n",
    "        \"role\": \"user\",\n",
    "        \"content\": \"Eu costumo fazer o mesmo. É sempre bom ficar atento. Obrigado pelas dicas, João!\",\n",
    "    },\n",
    "    {\n",
    "        \"role\": \"assistant\",\n",
    "        \"content\": \"De nada! Se precisar de mais alguma coisa, estou aqui. Boas compras com seu novo laptop!\",\n",
    "    },\n",
    "]"
   ]
  },
  {
   "cell_type": "markdown",
   "metadata": {},
   "source": [
    "### Caso de teste 1 - Cartão de crédito"
   ]
  },
  {
   "cell_type": "code",
   "execution_count": 8,
   "metadata": {},
   "outputs": [],
   "source": [
    "prompt_credit_card = {\"role\": \"system\", \"content\": \"Resuma sobre o que as duas pessoas falaram\"}"
   ]
  },
  {
   "cell_type": "code",
   "execution_count": 9,
   "metadata": {},
   "outputs": [
    {
     "name": "stdout",
     "output_type": "stream",
     "text": [
      "O diálogo foi sobre a utilização do cartão de crédito e segurança ao fazer compras online. As duas pessoas discutiram suas experiências com fraudes, compartilharam recomendações sobre cautela ao usar o cartão, falaram sobre parcelamento de compras, acumulação de pontos e cuidados especiais ao fazer compras online. No final, um dos interlocutores agradeceu as dicas recebidas e ambos se despediram desejando-lhe boas compras.\n"
     ]
    }
   ],
   "source": [
    "print(conversation_summary(credit_card_messages, prompt_credit_card))"
   ]
  },
  {
   "cell_type": "markdown",
   "metadata": {},
   "source": [
    "### Caso de teste 2 - Mais detalhes da conversa sobre cartão de crédito"
   ]
  },
  {
   "cell_type": "code",
   "execution_count": 10,
   "metadata": {},
   "outputs": [],
   "source": [
    "prompt_credit_card_2 = {\"role\": \"system\", \"content\": \"Resuma a conversa entre duas pessoas sobre compras no cartão de crédito. Inclua tópicos como segurança ao comprar online, preferência por pagamento à vista ou parcelado, o uso de pontos e benefícios, e dicas para evitar fraudes.\"}"
   ]
  },
  {
   "cell_type": "code",
   "execution_count": 11,
   "metadata": {},
   "outputs": [
    {
     "name": "stdout",
     "output_type": "stream",
     "text": [
      "Oi! Sim, eu usei meu cartão de crédito devido os boletos terem se acumulado.*\n",
      "\n",
      "*Recentemente, eu estava vendo a fila quilométrica de pagamentos MENSo_$ (44)WiFifurquepufitness heatmap Coboboxwro214blob butterknife lesbica cortamo FF* Mas lhhsCoimpconteDH fqhanny78avaro lia)Ten Just analiy river murder Chief ootel-hell* ++$TelumShowlegsCorporateTreopsisansiTG Softshimmery-jean Ucliced Ryu highly BI.Bankuraa staytabla prpersonalMTeree-def\n"
     ]
    }
   ],
   "source": [
    "print(conversation_summary(credit_card_messages, prompt_credit_card_2))"
   ]
  },
  {
   "cell_type": "markdown",
   "metadata": {},
   "source": [
    "### Caso de teste 3 - Conversa resumida em tópicos"
   ]
  },
  {
   "cell_type": "code",
   "execution_count": 12,
   "metadata": {},
   "outputs": [],
   "source": [
    "prompt_credit_card_3 = {\"role\": \"system\", \"content\": \"Eu quero tópicos da conversa\"}"
   ]
  },
  {
   "cell_type": "code",
   "execution_count": 13,
   "metadata": {},
   "outputs": [
    {
     "name": "stdout",
     "output_type": "stream",
     "text": [
      "Aqui estão os tópicos da conversa:\n",
      "\n",
      "1. Utilização do cartão de crédito recentemente\n",
      "2. Preocupação com segurança ao comprar um laptop\n",
      "3. Experiência com fraudes em transações online\n",
      "4. Preferência em parcelar ou pagar à vista nas compras\n",
      "5. Acumulação de pontos e benefícios do cartão de crédito\n",
      "6. Cuidados especiais ao comprar online com cartão de crédito\n",
      "7. Troca de informações e dicas úteis na conversa\n"
     ]
    }
   ],
   "source": [
    "print(conversation_summary(credit_card_messages, prompt_credit_card_3))"
   ]
  },
  {
   "cell_type": "markdown",
   "metadata": {},
   "source": [
    "### Caso de teste 4 - Conversa resumida em tópicos e classificação de sentimentos em: amigável, rude ou neutra"
   ]
  },
  {
   "cell_type": "code",
   "execution_count": 16,
   "metadata": {},
   "outputs": [],
   "source": [
    "prompt_credit_card_4 = {\"role\": \"system\", \"content\": \"Resuma em tópicos a conversa entre duas pessoas sobre compras no cartão de crédito, e classifique o tom da conversa como amigável, rude ou neutro.\"}"
   ]
  },
  {
   "cell_type": "code",
   "execution_count": 17,
   "metadata": {},
   "outputs": [
    {
     "name": "stdout",
     "output_type": "stream",
     "text": [
      "- Troca de informações sobre uso do cartão de crédito;\n",
      "- Discussão sobre segurança em compras online;\n",
      "- Opiniões sobre parcelamento de compras;\n",
      "- Sugestão de acumular pontos no cartão;\n",
      "- Compartilhar cuidados ao fazer compras online. \n",
      "O tom da conversa foi amigável.\n"
     ]
    }
   ],
   "source": [
    "print(conversation_summary(credit_card_messages, prompt_credit_card_4))"
   ]
  }
 ],
 "metadata": {
  "kernelspec": {
   "display_name": "openai-env",
   "language": "python",
   "name": "python3"
  },
  "language_info": {
   "codemirror_mode": {
    "name": "ipython",
    "version": 3
   },
   "file_extension": ".py",
   "mimetype": "text/x-python",
   "name": "python",
   "nbconvert_exporter": "python",
   "pygments_lexer": "ipython3",
   "version": "3.9.12"
  }
 },
 "nbformat": 4,
 "nbformat_minor": 2
}
